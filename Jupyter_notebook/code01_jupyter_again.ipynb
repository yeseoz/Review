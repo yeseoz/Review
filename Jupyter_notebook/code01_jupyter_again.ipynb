{
 "cells": [
  {
   "attachments": {},
   "cell_type": "markdown",
   "metadata": {},
   "source": [
    "### Folium 지도\n",
    "\n",
    "#### 라이브러리 설치\n",
    "```shell\n",
    "!pip install folium\n",
    "```"
   ]
  },
  {
   "cell_type": "code",
   "execution_count": 72,
   "metadata": {},
   "outputs": [
    {
     "name": "stdout",
     "output_type": "stream",
     "text": [
      "Requirement already satisfied: folium in c:\\dev\\tool\\lib\\site-packages (0.14.0)\n",
      "Requirement already satisfied: branca>=0.6.0 in c:\\dev\\tool\\lib\\site-packages (from folium) (0.6.0)\n",
      "Requirement already satisfied: jinja2>=2.9 in c:\\dev\\tool\\lib\\site-packages (from folium) (3.1.2)\n",
      "Requirement already satisfied: numpy in c:\\dev\\tool\\lib\\site-packages (from folium) (1.24.2)\n",
      "Requirement already satisfied: requests in c:\\dev\\tool\\lib\\site-packages (from folium) (2.28.2)\n",
      "Requirement already satisfied: MarkupSafe>=2.0 in c:\\dev\\tool\\lib\\site-packages (from jinja2>=2.9->folium) (2.1.2)\n",
      "Requirement already satisfied: charset-normalizer<4,>=2 in c:\\dev\\tool\\lib\\site-packages (from requests->folium) (3.0.1)\n",
      "Requirement already satisfied: idna<4,>=2.5 in c:\\dev\\tool\\lib\\site-packages (from requests->folium) (3.4)\n",
      "Requirement already satisfied: urllib3<1.27,>=1.21.1 in c:\\dev\\tool\\lib\\site-packages (from requests->folium) (1.26.14)\n",
      "Requirement already satisfied: certifi>=2017.4.17 in c:\\dev\\tool\\lib\\site-packages (from requests->folium) (2022.12.7)\n"
     ]
    },
    {
     "name": "stderr",
     "output_type": "stream",
     "text": [
      "\n",
      "[notice] A new release of pip available: 22.3.1 -> 23.0\n",
      "[notice] To update, run: python.exe -m pip install --upgrade pip\n"
     ]
    }
   ],
   "source": [
    "!pip install folium"
   ]
  },
  {
   "attachments": {},
   "cell_type": "markdown",
   "metadata": {},
   "source": [
    "### 라이브러리 import\n",
    "```python\n",
    "import folium\n",
    "```"
   ]
  },
  {
   "cell_type": "code",
   "execution_count": 73,
   "metadata": {},
   "outputs": [
    {
     "data": {
      "text/html": [
       "<div style=\"width:100%;\"><div style=\"position:relative;width:100%;height:0;padding-bottom:60%;\"><span style=\"color:#565656\">Make this Notebook Trusted to load map: File -> Trust Notebook</span><iframe srcdoc=\"&lt;!DOCTYPE html&gt;\n",
       "&lt;html&gt;\n",
       "&lt;head&gt;\n",
       "    \n",
       "    &lt;meta http-equiv=&quot;content-type&quot; content=&quot;text/html; charset=UTF-8&quot; /&gt;\n",
       "    \n",
       "        &lt;script&gt;\n",
       "            L_NO_TOUCH = false;\n",
       "            L_DISABLE_3D = false;\n",
       "        &lt;/script&gt;\n",
       "    \n",
       "    &lt;style&gt;html, body {width: 100%;height: 100%;margin: 0;padding: 0;}&lt;/style&gt;\n",
       "    &lt;style&gt;#map {position:absolute;top:0;bottom:0;right:0;left:0;}&lt;/style&gt;\n",
       "    &lt;script src=&quot;https://cdn.jsdelivr.net/npm/leaflet@1.9.3/dist/leaflet.js&quot;&gt;&lt;/script&gt;\n",
       "    &lt;script src=&quot;https://code.jquery.com/jquery-1.12.4.min.js&quot;&gt;&lt;/script&gt;\n",
       "    &lt;script src=&quot;https://cdn.jsdelivr.net/npm/bootstrap@5.2.2/dist/js/bootstrap.bundle.min.js&quot;&gt;&lt;/script&gt;\n",
       "    &lt;script src=&quot;https://cdnjs.cloudflare.com/ajax/libs/Leaflet.awesome-markers/2.0.2/leaflet.awesome-markers.js&quot;&gt;&lt;/script&gt;\n",
       "    &lt;link rel=&quot;stylesheet&quot; href=&quot;https://cdn.jsdelivr.net/npm/leaflet@1.9.3/dist/leaflet.css&quot;/&gt;\n",
       "    &lt;link rel=&quot;stylesheet&quot; href=&quot;https://cdn.jsdelivr.net/npm/bootstrap@5.2.2/dist/css/bootstrap.min.css&quot;/&gt;\n",
       "    &lt;link rel=&quot;stylesheet&quot; href=&quot;https://netdna.bootstrapcdn.com/bootstrap/3.0.0/css/bootstrap.min.css&quot;/&gt;\n",
       "    &lt;link rel=&quot;stylesheet&quot; href=&quot;https://cdn.jsdelivr.net/npm/@fortawesome/fontawesome-free@6.2.0/css/all.min.css&quot;/&gt;\n",
       "    &lt;link rel=&quot;stylesheet&quot; href=&quot;https://cdnjs.cloudflare.com/ajax/libs/Leaflet.awesome-markers/2.0.2/leaflet.awesome-markers.css&quot;/&gt;\n",
       "    &lt;link rel=&quot;stylesheet&quot; href=&quot;https://cdn.jsdelivr.net/gh/python-visualization/folium/folium/templates/leaflet.awesome.rotate.min.css&quot;/&gt;\n",
       "    \n",
       "            &lt;meta name=&quot;viewport&quot; content=&quot;width=device-width,\n",
       "                initial-scale=1.0, maximum-scale=1.0, user-scalable=no&quot; /&gt;\n",
       "            &lt;style&gt;\n",
       "                #map_7b94565568ab6f5a3c0e216fd02da256 {\n",
       "                    position: relative;\n",
       "                    width: 100.0%;\n",
       "                    height: 100.0%;\n",
       "                    left: 0.0%;\n",
       "                    top: 0.0%;\n",
       "                }\n",
       "                .leaflet-container { font-size: 1rem; }\n",
       "            &lt;/style&gt;\n",
       "        \n",
       "&lt;/head&gt;\n",
       "&lt;body&gt;\n",
       "    \n",
       "    \n",
       "            &lt;div class=&quot;folium-map&quot; id=&quot;map_7b94565568ab6f5a3c0e216fd02da256&quot; &gt;&lt;/div&gt;\n",
       "        \n",
       "&lt;/body&gt;\n",
       "&lt;script&gt;\n",
       "    \n",
       "    \n",
       "            var map_7b94565568ab6f5a3c0e216fd02da256 = L.map(\n",
       "                &quot;map_7b94565568ab6f5a3c0e216fd02da256&quot;,\n",
       "                {\n",
       "                    center: [35.11748, 129.090437],\n",
       "                    crs: L.CRS.EPSG3857,\n",
       "                    zoom: 18,\n",
       "                    zoomControl: true,\n",
       "                    preferCanvas: false,\n",
       "                }\n",
       "            );\n",
       "\n",
       "            \n",
       "\n",
       "        \n",
       "    \n",
       "            var tile_layer_a3e17beb344afea1f3db9bffb811e235 = L.tileLayer(\n",
       "                &quot;https://{s}.tile.openstreetmap.org/{z}/{x}/{y}.png&quot;,\n",
       "                {&quot;attribution&quot;: &quot;Data by \\u0026copy; \\u003ca target=\\&quot;_blank\\&quot; href=\\&quot;http://openstreetmap.org\\&quot;\\u003eOpenStreetMap\\u003c/a\\u003e, under \\u003ca target=\\&quot;_blank\\&quot; href=\\&quot;http://www.openstreetmap.org/copyright\\&quot;\\u003eODbL\\u003c/a\\u003e.&quot;, &quot;detectRetina&quot;: false, &quot;maxNativeZoom&quot;: 18, &quot;maxZoom&quot;: 18, &quot;minZoom&quot;: 0, &quot;noWrap&quot;: false, &quot;opacity&quot;: 1, &quot;subdomains&quot;: &quot;abc&quot;, &quot;tms&quot;: false}\n",
       "            ).addTo(map_7b94565568ab6f5a3c0e216fd02da256);\n",
       "        \n",
       "    \n",
       "            var marker_65b3af3f9bff8824f8631d43e36fe4c2 = L.marker(\n",
       "                [35.11748, 129.090437],\n",
       "                {}\n",
       "            ).addTo(map_7b94565568ab6f5a3c0e216fd02da256);\n",
       "        \n",
       "    \n",
       "            var icon_5a507f4a0ecb846a71ba0128344cd574 = L.AwesomeMarkers.icon(\n",
       "                {&quot;extraClasses&quot;: &quot;fa-rotate-0&quot;, &quot;icon&quot;: &quot;heart-empty&quot;, &quot;iconColor&quot;: &quot;white&quot;, &quot;markerColor&quot;: &quot;red&quot;, &quot;prefix&quot;: &quot;glyphicon&quot;}\n",
       "            );\n",
       "            marker_65b3af3f9bff8824f8631d43e36fe4c2.setIcon(icon_5a507f4a0ecb846a71ba0128344cd574);\n",
       "        \n",
       "    \n",
       "        var popup_811ed8e5c94d2de51bbaab79f9bf9530 = L.popup({&quot;maxWidth&quot;: 350, &quot;minWidth&quot;: 200});\n",
       "\n",
       "        \n",
       "            \n",
       "                var i_frame_463dc39bfcf03ee0be798e605232e0f9 = $(`&lt;div style=&quot;width:100%;&quot;&gt;&lt;div style=&quot;position:relative;width:100%;height:0;padding-bottom:60%;&quot;&gt;&lt;iframe src=&quot;data:text/html;charset=utf-8;base64,CiAgICA8aDM+67aA6rK964yA7ZWZ6rWQPC9oMz48YnI+PC9hPuyaqeuLuey6oO2NvOyKpDxicj7sp4Dsl63rp57stqTsgrDsl4Xri6g=&quot; style=&quot;position:absolute;width:100%;height:100%;left:0;top:0;border:none !important;&quot;&gt;&lt;/iframe&gt;&lt;/div&gt;&lt;/div&gt;`)[0];\n",
       "                popup_811ed8e5c94d2de51bbaab79f9bf9530.setContent(i_frame_463dc39bfcf03ee0be798e605232e0f9);\n",
       "            \n",
       "        \n",
       "\n",
       "        marker_65b3af3f9bff8824f8631d43e36fe4c2.bindPopup(popup_811ed8e5c94d2de51bbaab79f9bf9530)\n",
       "        ;\n",
       "\n",
       "        \n",
       "    \n",
       "&lt;/script&gt;\n",
       "&lt;/html&gt;\" style=\"position:absolute;width:100%;height:100%;left:0;top:0;border:none !important;\" allowfullscreen webkitallowfullscreen mozallowfullscreen></iframe></div></div>"
      ],
      "text/plain": [
       "<folium.folium.Map at 0x22dce65d2d0>"
      ]
     },
     "execution_count": 73,
     "metadata": {},
     "output_type": "execute_result"
    }
   ],
   "source": [
    "import folium\n",
    "# location [위도, 경도], zoom_start = 1 ~ 18\n",
    "# icon => https://getbootstrap.com/docs/3.3/components/\n",
    "\n",
    "map = folium.Map(location = [35.117480, 129.090437], zoom_start = 18, zoom_control= True) # 부경대학교 용당캠퍼스 종합복지관\n",
    "iframe = folium.IFrame('<h3>부경대학교</h3><br></a>용당캠퍼스<br>지역맞춤산업단')\n",
    "popup = folium.Popup(iframe, min_width = 200, max_width = 350)\n",
    "folium.Marker(location = [35.117480, 129.090437], popup = popup, icon = folium.Icon(color = 'red', icon = 'heart-empty')).add_to(map)\n",
    "map"
   ]
  },
  {
   "cell_type": "code",
   "execution_count": 74,
   "metadata": {},
   "outputs": [
    {
     "data": {
      "text/html": [
       "<div style=\"width:100%;\"><div style=\"position:relative;width:100%;height:0;padding-bottom:60%;\"><span style=\"color:#565656\">Make this Notebook Trusted to load map: File -> Trust Notebook</span><iframe srcdoc=\"&lt;!DOCTYPE html&gt;\n",
       "&lt;html&gt;\n",
       "&lt;head&gt;\n",
       "    \n",
       "    &lt;meta http-equiv=&quot;content-type&quot; content=&quot;text/html; charset=UTF-8&quot; /&gt;\n",
       "    \n",
       "        &lt;script&gt;\n",
       "            L_NO_TOUCH = false;\n",
       "            L_DISABLE_3D = false;\n",
       "        &lt;/script&gt;\n",
       "    \n",
       "    &lt;style&gt;html, body {width: 100%;height: 100%;margin: 0;padding: 0;}&lt;/style&gt;\n",
       "    &lt;style&gt;#map {position:absolute;top:0;bottom:0;right:0;left:0;}&lt;/style&gt;\n",
       "    &lt;script src=&quot;https://cdn.jsdelivr.net/npm/leaflet@1.9.3/dist/leaflet.js&quot;&gt;&lt;/script&gt;\n",
       "    &lt;script src=&quot;https://code.jquery.com/jquery-1.12.4.min.js&quot;&gt;&lt;/script&gt;\n",
       "    &lt;script src=&quot;https://cdn.jsdelivr.net/npm/bootstrap@5.2.2/dist/js/bootstrap.bundle.min.js&quot;&gt;&lt;/script&gt;\n",
       "    &lt;script src=&quot;https://cdnjs.cloudflare.com/ajax/libs/Leaflet.awesome-markers/2.0.2/leaflet.awesome-markers.js&quot;&gt;&lt;/script&gt;\n",
       "    &lt;link rel=&quot;stylesheet&quot; href=&quot;https://cdn.jsdelivr.net/npm/leaflet@1.9.3/dist/leaflet.css&quot;/&gt;\n",
       "    &lt;link rel=&quot;stylesheet&quot; href=&quot;https://cdn.jsdelivr.net/npm/bootstrap@5.2.2/dist/css/bootstrap.min.css&quot;/&gt;\n",
       "    &lt;link rel=&quot;stylesheet&quot; href=&quot;https://netdna.bootstrapcdn.com/bootstrap/3.0.0/css/bootstrap.min.css&quot;/&gt;\n",
       "    &lt;link rel=&quot;stylesheet&quot; href=&quot;https://cdn.jsdelivr.net/npm/@fortawesome/fontawesome-free@6.2.0/css/all.min.css&quot;/&gt;\n",
       "    &lt;link rel=&quot;stylesheet&quot; href=&quot;https://cdnjs.cloudflare.com/ajax/libs/Leaflet.awesome-markers/2.0.2/leaflet.awesome-markers.css&quot;/&gt;\n",
       "    &lt;link rel=&quot;stylesheet&quot; href=&quot;https://cdn.jsdelivr.net/gh/python-visualization/folium/folium/templates/leaflet.awesome.rotate.min.css&quot;/&gt;\n",
       "    \n",
       "            &lt;meta name=&quot;viewport&quot; content=&quot;width=device-width,\n",
       "                initial-scale=1.0, maximum-scale=1.0, user-scalable=no&quot; /&gt;\n",
       "            &lt;style&gt;\n",
       "                #map_63784543c6d209282ceef636ee13b649 {\n",
       "                    position: relative;\n",
       "                    width: 100.0%;\n",
       "                    height: 100.0%;\n",
       "                    left: 0.0%;\n",
       "                    top: 0.0%;\n",
       "                }\n",
       "                .leaflet-container { font-size: 1rem; }\n",
       "            &lt;/style&gt;\n",
       "        \n",
       "&lt;/head&gt;\n",
       "&lt;body&gt;\n",
       "    \n",
       "    \n",
       "            &lt;div class=&quot;folium-map&quot; id=&quot;map_63784543c6d209282ceef636ee13b649&quot; &gt;&lt;/div&gt;\n",
       "        \n",
       "&lt;/body&gt;\n",
       "&lt;script&gt;\n",
       "    \n",
       "    \n",
       "            var map_63784543c6d209282ceef636ee13b649 = L.map(\n",
       "                &quot;map_63784543c6d209282ceef636ee13b649&quot;,\n",
       "                {\n",
       "                    center: [35.11748, 129.090437],\n",
       "                    crs: L.CRS.EPSG3857,\n",
       "                    zoom: 13,\n",
       "                    zoomControl: true,\n",
       "                    preferCanvas: false,\n",
       "                    titles: &quot;openstreetmap&quot;,\n",
       "                }\n",
       "            );\n",
       "\n",
       "            \n",
       "\n",
       "        \n",
       "    \n",
       "            var tile_layer_c1781fae9ecc4760a3be84b17ab9bb3e = L.tileLayer(\n",
       "                &quot;https://{s}.tile.openstreetmap.org/{z}/{x}/{y}.png&quot;,\n",
       "                {&quot;attribution&quot;: &quot;Data by \\u0026copy; \\u003ca target=\\&quot;_blank\\&quot; href=\\&quot;http://openstreetmap.org\\&quot;\\u003eOpenStreetMap\\u003c/a\\u003e, under \\u003ca target=\\&quot;_blank\\&quot; href=\\&quot;http://www.openstreetmap.org/copyright\\&quot;\\u003eODbL\\u003c/a\\u003e.&quot;, &quot;detectRetina&quot;: false, &quot;maxNativeZoom&quot;: 18, &quot;maxZoom&quot;: 18, &quot;minZoom&quot;: 0, &quot;noWrap&quot;: false, &quot;opacity&quot;: 1, &quot;subdomains&quot;: &quot;abc&quot;, &quot;tms&quot;: false}\n",
       "            ).addTo(map_63784543c6d209282ceef636ee13b649);\n",
       "        \n",
       "    \n",
       "                var lat_lng_popup_ca78467ee7636d0ac931309903fb03f1 = L.popup();\n",
       "                function latLngPop(e) {\n",
       "                    lat_lng_popup_ca78467ee7636d0ac931309903fb03f1\n",
       "                        .setLatLng(e.latlng)\n",
       "                        .setContent(&quot;Latitude: &quot; + e.latlng.lat.toFixed(4) +\n",
       "                                    &quot;&lt;br&gt;Longitude: &quot; + e.latlng.lng.toFixed(4))\n",
       "                        .openOn(map_63784543c6d209282ceef636ee13b649);\n",
       "                    }\n",
       "                map_63784543c6d209282ceef636ee13b649.on(&#x27;click&#x27;, latLngPop);\n",
       "            \n",
       "&lt;/script&gt;\n",
       "&lt;/html&gt;\" style=\"position:absolute;width:100%;height:100%;left:0;top:0;border:none !important;\" allowfullscreen webkitallowfullscreen mozallowfullscreen></iframe></div></div>"
      ],
      "text/plain": [
       "<folium.folium.Map at 0x22dc75aa710>"
      ]
     },
     "execution_count": 74,
     "metadata": {},
     "output_type": "execute_result"
    }
   ],
   "source": [
    "# 위경도 팝업\n",
    "map = folium.Map(location = [35.117480, 129.090437], zoom_start = 13, titles = 'openstreetmap')\n",
    "map.add_child(folium.LatLngPopup())\n",
    "map"
   ]
  },
  {
   "cell_type": "code",
   "execution_count": 75,
   "metadata": {},
   "outputs": [
    {
     "data": {
      "text/html": [
       "<div style=\"width:100%;\"><div style=\"position:relative;width:100%;height:0;padding-bottom:60%;\"><span style=\"color:#565656\">Make this Notebook Trusted to load map: File -> Trust Notebook</span><iframe srcdoc=\"&lt;!DOCTYPE html&gt;\n",
       "&lt;html&gt;\n",
       "&lt;head&gt;\n",
       "    \n",
       "    &lt;meta http-equiv=&quot;content-type&quot; content=&quot;text/html; charset=UTF-8&quot; /&gt;\n",
       "    \n",
       "        &lt;script&gt;\n",
       "            L_NO_TOUCH = false;\n",
       "            L_DISABLE_3D = false;\n",
       "        &lt;/script&gt;\n",
       "    \n",
       "    &lt;style&gt;html, body {width: 100%;height: 100%;margin: 0;padding: 0;}&lt;/style&gt;\n",
       "    &lt;style&gt;#map {position:absolute;top:0;bottom:0;right:0;left:0;}&lt;/style&gt;\n",
       "    &lt;script src=&quot;https://cdn.jsdelivr.net/npm/leaflet@1.9.3/dist/leaflet.js&quot;&gt;&lt;/script&gt;\n",
       "    &lt;script src=&quot;https://code.jquery.com/jquery-1.12.4.min.js&quot;&gt;&lt;/script&gt;\n",
       "    &lt;script src=&quot;https://cdn.jsdelivr.net/npm/bootstrap@5.2.2/dist/js/bootstrap.bundle.min.js&quot;&gt;&lt;/script&gt;\n",
       "    &lt;script src=&quot;https://cdnjs.cloudflare.com/ajax/libs/Leaflet.awesome-markers/2.0.2/leaflet.awesome-markers.js&quot;&gt;&lt;/script&gt;\n",
       "    &lt;link rel=&quot;stylesheet&quot; href=&quot;https://cdn.jsdelivr.net/npm/leaflet@1.9.3/dist/leaflet.css&quot;/&gt;\n",
       "    &lt;link rel=&quot;stylesheet&quot; href=&quot;https://cdn.jsdelivr.net/npm/bootstrap@5.2.2/dist/css/bootstrap.min.css&quot;/&gt;\n",
       "    &lt;link rel=&quot;stylesheet&quot; href=&quot;https://netdna.bootstrapcdn.com/bootstrap/3.0.0/css/bootstrap.min.css&quot;/&gt;\n",
       "    &lt;link rel=&quot;stylesheet&quot; href=&quot;https://cdn.jsdelivr.net/npm/@fortawesome/fontawesome-free@6.2.0/css/all.min.css&quot;/&gt;\n",
       "    &lt;link rel=&quot;stylesheet&quot; href=&quot;https://cdnjs.cloudflare.com/ajax/libs/Leaflet.awesome-markers/2.0.2/leaflet.awesome-markers.css&quot;/&gt;\n",
       "    &lt;link rel=&quot;stylesheet&quot; href=&quot;https://cdn.jsdelivr.net/gh/python-visualization/folium/folium/templates/leaflet.awesome.rotate.min.css&quot;/&gt;\n",
       "    \n",
       "            &lt;meta name=&quot;viewport&quot; content=&quot;width=device-width,\n",
       "                initial-scale=1.0, maximum-scale=1.0, user-scalable=no&quot; /&gt;\n",
       "            &lt;style&gt;\n",
       "                #map_1e4fcc87436bc71f9e6b7f06c58ad0a1 {\n",
       "                    position: relative;\n",
       "                    width: 100.0%;\n",
       "                    height: 100.0%;\n",
       "                    left: 0.0%;\n",
       "                    top: 0.0%;\n",
       "                }\n",
       "                .leaflet-container { font-size: 1rem; }\n",
       "            &lt;/style&gt;\n",
       "        \n",
       "&lt;/head&gt;\n",
       "&lt;body&gt;\n",
       "    \n",
       "    \n",
       "            &lt;div class=&quot;folium-map&quot; id=&quot;map_1e4fcc87436bc71f9e6b7f06c58ad0a1&quot; &gt;&lt;/div&gt;\n",
       "        \n",
       "&lt;/body&gt;\n",
       "&lt;script&gt;\n",
       "    \n",
       "    \n",
       "            var map_1e4fcc87436bc71f9e6b7f06c58ad0a1 = L.map(\n",
       "                &quot;map_1e4fcc87436bc71f9e6b7f06c58ad0a1&quot;,\n",
       "                {\n",
       "                    center: [35.117521, 129.092958],\n",
       "                    crs: L.CRS.EPSG3857,\n",
       "                    zoom: 14,\n",
       "                    zoomControl: true,\n",
       "                    preferCanvas: false,\n",
       "                }\n",
       "            );\n",
       "\n",
       "            \n",
       "\n",
       "        \n",
       "    \n",
       "            var tile_layer_bab7712c1f6e0adcc3f47e4b3e769ab2 = L.tileLayer(\n",
       "                &quot;https://{s}.tile.openstreetmap.org/{z}/{x}/{y}.png&quot;,\n",
       "                {&quot;attribution&quot;: &quot;Data by \\u0026copy; \\u003ca target=\\&quot;_blank\\&quot; href=\\&quot;http://openstreetmap.org\\&quot;\\u003eOpenStreetMap\\u003c/a\\u003e, under \\u003ca target=\\&quot;_blank\\&quot; href=\\&quot;http://www.openstreetmap.org/copyright\\&quot;\\u003eODbL\\u003c/a\\u003e.&quot;, &quot;detectRetina&quot;: false, &quot;maxNativeZoom&quot;: 18, &quot;maxZoom&quot;: 18, &quot;minZoom&quot;: 0, &quot;noWrap&quot;: false, &quot;opacity&quot;: 1, &quot;subdomains&quot;: &quot;abc&quot;, &quot;tms&quot;: false}\n",
       "            ).addTo(map_1e4fcc87436bc71f9e6b7f06c58ad0a1);\n",
       "        \n",
       "    \n",
       "            var poly_line_63b10fce960d9b2d562d559dc3c3e51e = L.polyline(\n",
       "                [[35.117521, 129.092958], [35.118529, 129.096187], [35.118552, 129.096522], [35.121024, 129.098509], [35.121405, 129.098685], [35.121873, 129.098914], [35.12358, 129.099535], [35.124023, 129.099789], [35.124594, 129.100031], [35.125348, 129.100534], [35.125983, 129.100906], [35.127287, 129.101936], [35.129756, 129.105714], [35.130081, 129.105264], [35.13062, 129.103993], [35.131566, 129.101627], [35.131894, 129.101281], [35.133417, 129.101099], [35.133514, 129.102535]],\n",
       "                {&quot;bubblingMouseEvents&quot;: true, &quot;color&quot;: &quot;#3388ff&quot;, &quot;dashArray&quot;: null, &quot;dashOffset&quot;: null, &quot;fill&quot;: false, &quot;fillColor&quot;: &quot;#3388ff&quot;, &quot;fillOpacity&quot;: 0.2, &quot;fillRule&quot;: &quot;evenodd&quot;, &quot;lineCap&quot;: &quot;round&quot;, &quot;lineJoin&quot;: &quot;round&quot;, &quot;noClip&quot;: false, &quot;opacity&quot;: 1.0, &quot;smoothFactor&quot;: 1.0, &quot;stroke&quot;: true, &quot;weight&quot;: 3}\n",
       "            ).addTo(map_1e4fcc87436bc71f9e6b7f06c58ad0a1);\n",
       "        \n",
       "    \n",
       "            poly_line_63b10fce960d9b2d562d559dc3c3e51e.bindTooltip(\n",
       "                `&lt;div&gt;\n",
       "                     용당에서 대연\n",
       "                 &lt;/div&gt;`,\n",
       "                {&quot;sticky&quot;: true}\n",
       "            );\n",
       "        \n",
       "&lt;/script&gt;\n",
       "&lt;/html&gt;\" style=\"position:absolute;width:100%;height:100%;left:0;top:0;border:none !important;\" allowfullscreen webkitallowfullscreen mozallowfullscreen></iframe></div></div>"
      ],
      "text/plain": [
       "<folium.folium.Map at 0x22dcf75c810>"
      ]
     },
     "execution_count": 75,
     "metadata": {},
     "output_type": "execute_result"
    }
   ],
   "source": [
    "map = folium.Map(location = [35.117521, 129.092958], zoom_start = 14, tiles = 'openstreetmap')\n",
    "\n",
    "gotocampus = [\n",
    "    (35.117521, 129.092958),\n",
    "    (35.118529, 129.096187),\n",
    "    (35.118552, 129.096522),\n",
    "    (35.121024, 129.098509),\n",
    "    (35.121405, 129.098685),\n",
    "    (35.121873, 129.098914),\n",
    "    (35.123580, 129.099535),\n",
    "    (35.124023, 129.099789),\n",
    "    (35.124594, 129.100031),\n",
    "    (35.125348, 129.100534),\n",
    "    (35.125983, 129.100906),\n",
    "    (35.127287, 129.101936),\n",
    "    (35.129756, 129.105714),\n",
    "    (35.130081, 129.105264),\n",
    "    (35.130620, 129.103993),\n",
    "    (35.131566, 129.101627),\n",
    "    (35.131894, 129.101281),\n",
    "    (35.133417, 129.101099),\n",
    "    (35.133514, 129.102535)\n",
    "]\n",
    "\n",
    "folium.PolyLine(gotocampus, tooltip = '용당에서 대연').add_to(map)\n",
    "map\n",
    "\n",
    "# 좌표 마우스로 찍는 값을 받아서 지도에 표시할 수도 있을 것 같음"
   ]
  },
  {
   "attachments": {},
   "cell_type": "markdown",
   "metadata": {},
   "source": [
    "### 웹 크롤링\n",
    "\n",
    "#### OpenAPI 크롤링\n",
    "경남 건강가정지원센터(왜 이걸 선택했는지는 나도 모름)"
   ]
  },
  {
   "cell_type": "code",
   "execution_count": 85,
   "metadata": {},
   "outputs": [
    {
     "name": "stdout",
     "output_type": "stream",
     "text": [
      "https://apis.data.go.kr/6480000/gyeongnamhealthfamilyassistcenter/gyeongnamhealthfamilyassistcenterlist?ServiceKey=LRZBDK0Pybz4yk9DMkGqYmde2FvwRLT82e5sRo2DByH89ICaW6A%2FbLNl2Ehe7O%2Fdj78UMA06t2eJ0Rw5k1GwHQ%3D%3D&pageNo=1&numOfRows=10&resultType=json\n"
     ]
    },
    {
     "name": "stderr",
     "output_type": "stream",
     "text": [
      "c:\\DEV\\Tool\\Lib\\site-packages\\urllib3\\connectionpool.py:1045: InsecureRequestWarning: Unverified HTTPS request is being made to host 'apis.data.go.kr'. Adding certificate verification is strongly advised. See: https://urllib3.readthedocs.io/en/1.26.x/advanced-usage.html#ssl-warnings\n",
      "  warnings.warn(\n"
     ]
    },
    {
     "data": {
      "text/plain": [
       "'{\"gyeongnamhealthfamilyassistcenterlist\":{\"header\":{\"resultCode\":\"00\",\"resultMsg\":\"NORMAL_CODE\"},\"body\":{\"items\":{\"item\":[{\"seq\":\"1\",\"regnsenm\":\"창원시\",\"institutionNm\":\"경상남도 건강가정지원센터\",\"rdnmadr\":\"경상남도 창원시 마산회원구 봉암북7길 21, 경남테크노파크 정보산업진흥본부 4동 305호\",\"telNo\":\"055-716-2363\",\"homepageUrl\":\"gsnd.familynet.or.kr\",\"latitude\":\"35.2246964071696\",\"logitude\":\"128.598326962526\"},{\"seq\":\"2\",\"regnsenm\":\"창원시\",\"institutionNm\":\"창원시 건강가정·다문화가족지원센터\",\"rdnmadr\":\"경상남도 창원시 성산구 대정로20번길 11, 여성회관 창원관 1층\",\"telNo\":\"055-225-3951\",\"homepageUrl\":\"changwon.familynet.or.kr\",\"latitude\":\"35.2061564698212\",\"logitude\":\"128.699125915863\"},{\"seq\":\"3\",\"regnsenm\":\"창원시\",\"institutionNm\":\"창원시마산 건강가정·다문화가족지원센터\",\"rdnmadr\":\"경상남도 창원시 마산합포구 중앙북5길 20, 마산YWCA\",\"telNo\":\"055-244-8745\",\"homepageUrl\":\"masan.familynet.or.kr\",\"latitude\":\"35.2002426969423\",\"logitude\":\"128.568511897995\"},{\"seq\":\"4\",\"regnsenm\":\"진주시\",\"institutionNm\":\"진주시 건강가정지원센터\",\"rdnmadr\":\"경상남도 진주시 진양호로 305\",\"telNo\":\"055-749-5445\",\"homepageUrl\":\"jinju.familynet.or.kr\",\"latitude\":\"35.1805364492722\",\"logitude\":\"128.065304149612\"},{\"seq\":\"5\",\"regnsenm\":\"통영시\",\"institutionNm\":\"통영시 건강가정·다문화가족지원센터\",\"rdnmadr\":\"경상남도 통영시 안개4길 94, 3층\",\"telNo\":\"055-640-7741\",\"homepageUrl\":\"tyfc.familynet.or.kr\",\"latitude\":\"34.8592325927213\",\"logitude\":\"128.432397092343\"},{\"seq\":\"6\",\"regnsenm\":\"사천시\",\"institutionNm\":\"사천시 건강가정·다문화가족지원센터\",\"rdnmadr\":\"경상남도 사천시 용현면 부곡3길 90, 사천시여성회관 2층\",\"telNo\":\"055-832-0345\",\"homepageUrl\":\"sacheon.familynet.or.kr\",\"latitude\":\"35.0043247320581\",\"logitude\":\"128.056014163713\"},{\"seq\":\"7\",\"regnsenm\":\"김해시\",\"institutionNm\":\"김해시 건강가정·다문화가족지원센터\",\"rdnmadr\":\"경상남도 김해시 김해대로 2232, 4층(김해여객터미널)\",\"telNo\":\"055-329-6355\",\"homepageUrl\":\"gimhae.familynet.or.kr\",\"latitude\":\"35.2293396295983\",\"logitude\":\"128.872242572055\"},{\"seq\":\"8\",\"regnsenm\":\"밀양시\",\"institutionNm\":\"밀양시 건강가정·다문화가족지원센터\",\"rdnmadr\":\"경상남도 밀양시 밀양대로 2089, 1층\",\"telNo\":\"055-351-4404\",\"homepageUrl\":\"miryang.familynet.or.kr\",\"latitude\":\"35.5037213089423\",\"logitude\":\"128.751447705362\"},{\"seq\":\"9\",\"regnsenm\":\"거제시\",\"institutionNm\":\"거제시 건강가정·다문화가족지원센터\",\"rdnmadr\":\"경상남도 거제시 탑곡로75, 근로자가족복지회관 2층\",\"telNo\":\"055-682-4958\",\"homepageUrl\":\"geojesi.liveinkorea.kr\",\"latitude\":\"34.8624407065167\",\"logitude\":\"128.691075281371\"},{\"seq\":\"10\",\"regnsenm\":\"양산시\",\"institutionNm\":\"양산시 건강가정·다문화가족지원센터\",\"rdnmadr\":\"경상남도 양산시 양주1길 7-1\",\"telNo\":\"055-382-0988\",\"homepageUrl\":\"yangsansi.liveinkorea.kr\",\"latitude\":\"35.3402182224579\",\"logitude\":\"129.031310612947\"}]},\"numOfRows\":10,\"pageNo\":1,\"totalCount\":16}}}'"
      ]
     },
     "execution_count": 85,
     "metadata": {},
     "output_type": "execute_result"
    }
   ],
   "source": [
    "import requests\n",
    "from urllib.parse import quote, unquote, urlencode\n",
    "import json\n",
    "\n",
    "def getDataPortalSearch(type):\n",
    "    api_url = 'https://apis.data.go.kr/6480000/gyeongnamhealthfamilyassistcenter/gyeongnamhealthfamilyassistcenterlist'\n",
    "    queryString = \"?\" + urlencode(\n",
    "        {\n",
    "            'ServiceKey' : 'LRZBDK0Pybz4yk9DMkGqYmde2FvwRLT82e5sRo2DByH89ICaW6A/bLNl2Ehe7O/dj78UMA06t2eJ0Rw5k1GwHQ==',\n",
    "            'pageNo' : '1',\n",
    "            'numOfRows' : '10',\n",
    "            'resultType' : type\n",
    "        }\n",
    "    )\n",
    "\n",
    "    total_url = api_url + queryString\n",
    "    print(total_url)\n",
    "    response = requests.get(total_url, verify = False)\n",
    "    return(response.text)\n",
    "\n",
    "\n",
    "#result = getDataPortalSearch('json')\n",
    "json_data = json.loads(result)\n",
    "getDataPortalSearch('json')\n",
    "#     hospiter_data = json_data['regnsenm']['institutionNm']['rdnmadr']\n",
    "\n",
    "#     for i in hospiter_data:\n",
    "#         print(i)\n",
    "# except Exception as e:\n",
    "#     print('찾는 데이터가 없습니다.')"
   ]
  }
 ],
 "metadata": {
  "kernelspec": {
   "display_name": "Python 3",
   "language": "python",
   "name": "python3"
  },
  "language_info": {
   "codemirror_mode": {
    "name": "ipython",
    "version": 3
   },
   "file_extension": ".py",
   "mimetype": "text/x-python",
   "name": "python",
   "nbconvert_exporter": "python",
   "pygments_lexer": "ipython3",
   "version": "3.11.1"
  },
  "orig_nbformat": 4,
  "vscode": {
   "interpreter": {
    "hash": "f254246c6650dfbe33011d0ac23f1f313b97be5b744f62f432586298b807b5ab"
   }
  }
 },
 "nbformat": 4,
 "nbformat_minor": 2
}
